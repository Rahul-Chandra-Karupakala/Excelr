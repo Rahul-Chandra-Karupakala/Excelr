{
 "cells": [
  {
   "cell_type": "code",
   "execution_count": 1,
   "id": "ad225964",
   "metadata": {},
   "outputs": [
    {
     "name": "stdout",
     "output_type": "stream",
     "text": [
      "Integer Variable:  10 , Type: <class 'int'>\n",
      "Float Variable:  20.5 , Type: <class 'float'>\n",
      "String Variable:  Hello, World! , Type: <class 'str'>\n",
      "Boolean Variable:  True , Type: <class 'bool'>\n"
     ]
    }
   ],
   "source": [
    "int_var = 10\n",
    "flo_var = 20.5\n",
    "str_var = \"Hello, World!\"\n",
    "bool_var = True\n",
    "print(\"Integer Variable: \", int_var, \", Type:\", type(int_var))\n",
    "print(\"Float Variable: \", flo_var, \", Type:\", type(flo_var))\n",
    "print(\"String Variable: \", str_var, \", Type:\", type(str_var))\n",
    "print(\"Boolean Variable: \", bool_var, \", Type:\", type(bool_var))\n"
   ]
  },
  {
   "cell_type": "code",
   "execution_count": null,
   "id": "730385ae",
   "metadata": {},
   "outputs": [],
   "source": []
  }
 ],
 "metadata": {
  "kernelspec": {
   "display_name": "Python 3 (ipykernel)",
   "language": "python",
   "name": "python3"
  },
  "language_info": {
   "codemirror_mode": {
    "name": "ipython",
    "version": 3
   },
   "file_extension": ".py",
   "mimetype": "text/x-python",
   "name": "python",
   "nbconvert_exporter": "python",
   "pygments_lexer": "ipython3",
   "version": "3.11.5"
  }
 },
 "nbformat": 4,
 "nbformat_minor": 5
}
