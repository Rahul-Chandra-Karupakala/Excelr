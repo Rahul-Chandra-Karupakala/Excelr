{
 "cells": [
  {
   "cell_type": "code",
   "execution_count": 1,
   "id": "2c80d762",
   "metadata": {},
   "outputs": [
    {
     "name": "stdout",
     "output_type": "stream",
     "text": [
      "List: [10, 20, 30, 40, 50]\n",
      "First element (index 0): 10\n",
      "Third element (index 2): 30\n",
      "Last element (index -1): 50\n"
     ]
    }
   ],
   "source": [
    "my_list = [10, 20, 30, 40, 50]\n",
    "print(\"List:\", my_list)\n",
    "print(\"First element (index 0):\", my_list[0])\n",
    "print(\"Third element (index 2):\", my_list[2])\n",
    "print(\"Last element (index -1):\", my_list[-1])"
   ]
  },
  {
   "cell_type": "code",
   "execution_count": 2,
   "id": "75f513be",
   "metadata": {},
   "outputs": [
    {
     "name": "stdout",
     "output_type": "stream",
     "text": [
      "\n",
      "Tuple: ('a', 'b', 'c', 'd', 'e')\n",
      "Second element (index 1): b\n",
      "Fourth element (index 3): d\n",
      "Last element (index -1): e\n"
     ]
    }
   ],
   "source": [
    "my_tuple = ('a', 'b', 'c', 'd', 'e')\n",
    "print(\"\\nTuple:\", my_tuple)\n",
    "print(\"Second element (index 1):\", my_tuple[1])\n",
    "print(\"Fourth element (index 3):\", my_tuple[3])\n",
    "print(\"Last element (index -1):\", my_tuple[-1])"
   ]
  },
  {
   "cell_type": "code",
   "execution_count": 3,
   "id": "83bf42d5",
   "metadata": {},
   "outputs": [
    {
     "name": "stdout",
     "output_type": "stream",
     "text": [
      "\n",
      "Dictionary: {'name': 'Alice', 'age': 25, 'city': 'New York', 'job': 'Engineer', 'hobby': 'Painting'}\n",
      "Value for key 'name': Alice\n",
      "Value for key 'city': New York\n",
      "Value for key 'hobby': Painting\n"
     ]
    }
   ],
   "source": [
    "my_dict = {\n",
    "    'name': 'Alice',\n",
    "    'age': 25,\n",
    "    'city': 'New York',\n",
    "    'job': 'Engineer',\n",
    "    'hobby': 'Painting'\n",
    "}\n",
    "print(\"\\nDictionary:\", my_dict)\n",
    "print(\"Value for key 'name':\", my_dict['name'])\n",
    "print(\"Value for key 'city':\", my_dict['city'])\n",
    "print(\"Value for key 'hobby':\", my_dict['hobby'])"
   ]
  },
  {
   "cell_type": "code",
   "execution_count": null,
   "id": "a9fc9f57",
   "metadata": {},
   "outputs": [],
   "source": []
  }
 ],
 "metadata": {
  "kernelspec": {
   "display_name": "Python 3 (ipykernel)",
   "language": "python",
   "name": "python3"
  },
  "language_info": {
   "codemirror_mode": {
    "name": "ipython",
    "version": 3
   },
   "file_extension": ".py",
   "mimetype": "text/x-python",
   "name": "python",
   "nbconvert_exporter": "python",
   "pygments_lexer": "ipython3",
   "version": "3.11.5"
  }
 },
 "nbformat": 4,
 "nbformat_minor": 5
}
